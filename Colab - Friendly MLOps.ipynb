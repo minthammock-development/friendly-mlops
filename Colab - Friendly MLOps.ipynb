{
  "nbformat": 4,
  "nbformat_minor": 0,
  "metadata": {
    "accelerator": "GPU",
    "colab": {
      "name": "DRUM - Automated Model Serving Made Easy.ipynb",
      "provenance": [],
      "collapsed_sections": [],
      "toc_visible": true,
      "include_colab_link": true
    },
    "kernelspec": {
      "display_name": "Python 3",
      "language": "python",
      "name": "python3"
    },
    "language_info": {
      "codemirror_mode": {
        "name": "ipython",
        "version": 3
      },
      "file_extension": ".py",
      "mimetype": "text/x-python",
      "name": "python",
      "nbconvert_exporter": "python",
      "pygments_lexer": "ipython3",
      "version": "3.7.7"
    }
  },
  "cells": [
    {
      "cell_type": "markdown",
      "metadata": {
        "id": "view-in-github",
        "colab_type": "text"
      },
      "source": [
        "<a href=\"https://colab.research.google.com/github/timsetsfire/friendly-mlops/blob/main/Colab%20-%20Friendly%20MLOps.ipynb\" target=\"_parent\"><img src=\"https://colab.research.google.com/assets/colab-badge.svg\" alt=\"Open In Colab\"/></a>"
      ]
    },
    {
      "cell_type": "markdown",
      "metadata": {
        "id": "VLxOyJ2xMrlL"
      },
      "source": [
        "# DRUM - Automated Model Serving Made Easy"
      ]
    },
    {
      "cell_type": "markdown",
      "metadata": {
        "id": "_OUbruxUMrlM"
      },
      "source": [
        "Considering the [10k Diabetes dataset](./data/readmissions_train.csv) and a number of pretrained models, we'll get our hands dirty by \n",
        "\n",
        "* Using DRUM for performance testing of models\n",
        "* Using DRUM for validation of models \n",
        "* Using DRUM to get a REST API endpoint\n",
        "* Show ease of swapping models out (different framewokrs - H2O GLM, DataRobot LGMB, Python Catboost, Python XGBoost\n",
        "* Instrument humility rules\n"
      ]
    },
    {
      "cell_type": "markdown",
      "metadata": {
        "id": "I41nRtO7wwfm"
      },
      "source": [
        "## Grab the `friendly-mlops` repo"
      ]
    },
    {
      "cell_type": "code",
      "metadata": {
        "colab": {
          "base_uri": "https://localhost:8080/"
        },
        "id": "zsGg4qVaw056",
        "outputId": "dfd105f2-d9b4-4023-ecde-2c55bd99bcb2"
      },
      "source": [
        "!git clone https://github.com/timsetsfire/friendly-mlops.git"
      ],
      "execution_count": 1,
      "outputs": [
        {
          "output_type": "stream",
          "text": [
            "Cloning into 'friendly-mlops'...\n",
            "remote: Enumerating objects: 27, done.\u001b[K\n",
            "remote: Counting objects: 100% (27/27), done.\u001b[K\n",
            "remote: Compressing objects: 100% (27/27), done.\u001b[K\n",
            "remote: Total 27 (delta 4), reused 0 (delta 0), pack-reused 0\u001b[K\n",
            "Unpacking objects: 100% (27/27), done.\n"
          ],
          "name": "stdout"
        }
      ]
    },
    {
      "cell_type": "markdown",
      "metadata": {
        "id": "5F8TBQYUw5sR"
      },
      "source": [
        "## Install requirements"
      ]
    },
    {
      "cell_type": "code",
      "metadata": {
        "id": "zSCMiQA4w8Lx"
      },
      "source": [
        "!pip install -U -r /content/friendly-mlops/colab_requirements.txt -q"
      ],
      "execution_count": 34,
      "outputs": []
    },
    {
      "cell_type": "markdown",
      "metadata": {
        "id": "AmbcpdmS3zOK"
      },
      "source": [
        "## Restart KERNEL!"
      ]
    },
    {
      "cell_type": "markdown",
      "metadata": {
        "id": "ykjnP6-ZMrlM"
      },
      "source": [
        "## Models\n",
        "\n",
        "Several models have been been trained in advanced and are available in the model folder of this repo.  Each models is has been trained to predict the probability of readmission for a given patient.  Several frameworks have been used to train aforementioned models to highlight versatility of DRUM when it comes to ease of usage"
      ]
    },
    {
      "cell_type": "code",
      "metadata": {
        "colab": {
          "base_uri": "https://localhost:8080/"
        },
        "id": "Dd-bFSGIyFyN",
        "outputId": "a8a84bc1-6030-46dc-8803-f42dac930ce8"
      },
      "source": [
        "! ls -l /content/friendly-mlops/models"
      ],
      "execution_count": 1,
      "outputs": [
        {
          "output_type": "stream",
          "text": [
            "total 20\n",
            "drwxr-xr-x 2 root root 4096 Mar 28 16:56 catboost\n",
            "drwxr-xr-x 2 root root 4096 Mar 28 16:56 datarobot\n",
            "drwxr-xr-x 2 root root 4096 Mar 28 16:56 h2o\n",
            "drwxr-xr-x 3 root root 4096 Mar 28 17:14 xgboost\n",
            "drwxr-xr-x 2 root root 4096 Mar 28 16:56 xgboost-with-humility\n"
          ],
          "name": "stdout"
        }
      ]
    },
    {
      "cell_type": "markdown",
      "metadata": {
        "id": "jDUoPRIxzF7T"
      },
      "source": [
        "There are a lot of [frameworks](https://github.com/datarobot/datarobot-user-models#built-in-model-support)  and models which DRUM supports natively, but for those which DRUM doesn't support of these shelf, we'll just need to create some custom hooks so DRUM.  In this example, we'll highlight some very simple custom hooks, and will provide links to more complex examples.\n",
        "\n",
        "Those (Python and R) hooks include\n",
        "* `init`\n",
        "* `load_model`\n",
        "* `read_input_data`\n",
        "* `transform` aka preprocessing\n",
        "* `score`\n",
        "* `post_process`\n",
        "* `unstructured_predict` - scoring arbitrary data and returning arbitrary output.  \n",
        "\n",
        "Java custom hooks is coming soon.  \n"
      ]
    },
    {
      "cell_type": "markdown",
      "metadata": {
        "id": "DP6_K3Pryaz8"
      },
      "source": [
        "## Validation\n",
        "\n",
        "You can validate the model on a set of various checks. It is highly recommended to run these checks, as they are performed in DataRobot before the model can be deployed.\n",
        "\n",
        "List of checks:\n",
        "\n",
        "* null values imputation - each feature of the provided dataset is set to missing and fed to the model.\n",
        "\n",
        "This takes some time to run but will not be pursued.  __It is highly recommended to run these checks__"
      ]
    },
    {
      "cell_type": "code",
      "metadata": {
        "colab": {
          "base_uri": "https://localhost:8080/"
        },
        "id": "Q4C7MQpC0ZZp",
        "outputId": "7333d998-b1a9-4d02-f969-91a23357a897"
      },
      "source": [
        "%%sh\n",
        "drum validation --code-dir ./friendly-mlops/models/xgboost \\\n",
        "--input ./friendly-mlops/data/readmissions_test.csv \\\n",
        "--target-type binary \\\n",
        "--positive-class-label True \\\n",
        "--negative-class-label False"
      ],
      "execution_count": 24,
      "outputs": [
        {
          "output_type": "stream",
          "text": [
            "         True     False\n",
            "0    0.615392  0.384608\n",
            "1    0.716724  0.283276\n",
            "2    0.652516  0.347484\n",
            "3    0.614488  0.385512\n",
            "4    0.819258  0.180742\n",
            "..        ...       ...\n",
            "495  0.616276  0.383724\n",
            "496  0.451008  0.548992\n",
            "497  0.470648  0.529352\n",
            "498  0.518132  0.481868\n",
            "499  0.430164  0.569836\n",
            "\n",
            "[500 rows x 2 columns]\n",
            "         True     False\n",
            "0    0.535153  0.464847\n",
            "1    0.704384  0.295616\n",
            "2    0.662020  0.337980\n",
            "3    0.618700  0.381300\n",
            "4    0.818212  0.181788\n",
            "..        ...       ...\n",
            "495  0.631497  0.368503\n",
            "496  0.453886  0.546114\n",
            "497  0.462472  0.537528\n",
            "498  0.458577  0.541423\n",
            "499  0.345581  0.654419\n",
            "\n",
            "[500 rows x 2 columns]\n",
            "         True     False\n",
            "0    0.609406  0.390594\n",
            "1    0.722578  0.277422\n",
            "2    0.655875  0.344125\n",
            "3    0.646963  0.353037\n",
            "4    0.826004  0.173996\n",
            "..        ...       ...\n",
            "495  0.628056  0.371943\n",
            "496  0.455790  0.544210\n",
            "497  0.488803  0.511197\n",
            "498  0.473575  0.526425\n",
            "499  0.350654  0.649346\n",
            "\n",
            "[500 rows x 2 columns]\n",
            "         True     False\n",
            "0    0.536535  0.463465\n",
            "1    0.594760  0.405240\n",
            "2    0.332240  0.667760\n",
            "3    0.394912  0.605089\n",
            "4    0.612897  0.387103\n",
            "..        ...       ...\n",
            "495  0.539480  0.460520\n",
            "496  0.401479  0.598521\n",
            "497  0.321779  0.678221\n",
            "498  0.411736  0.588264\n",
            "499  0.198873  0.801127\n",
            "\n",
            "[500 rows x 2 columns]\n",
            "         True     False\n",
            "0    0.433774  0.566226\n",
            "1    0.552554  0.447446\n",
            "2    0.581556  0.418444\n",
            "3    0.447418  0.552582\n",
            "4    0.755061  0.244939\n",
            "..        ...       ...\n",
            "495  0.501982  0.498018\n",
            "496  0.459087  0.540913\n",
            "497  0.371809  0.628191\n",
            "498  0.458760  0.541241\n",
            "499  0.286274  0.713726\n",
            "\n",
            "[500 rows x 2 columns]\n",
            "         True     False\n",
            "0    0.659363  0.340637\n",
            "1    0.775273  0.224727\n",
            "2    0.632213  0.367787\n",
            "3    0.664657  0.335343\n",
            "4    0.839254  0.160746\n",
            "..        ...       ...\n",
            "495  0.667747  0.332253\n",
            "496  0.478967  0.521033\n",
            "497  0.626649  0.373351\n",
            "498  0.600224  0.399777\n",
            "499  0.426723  0.573277\n",
            "\n",
            "[500 rows x 2 columns]\n",
            "         True     False\n",
            "0    0.614755  0.385245\n",
            "1    0.700206  0.299793\n",
            "2    0.660954  0.339046\n",
            "3    0.597891  0.402109\n",
            "4    0.813181  0.186819\n",
            "..        ...       ...\n",
            "495  0.637645  0.362355\n",
            "496  0.489310  0.510690\n",
            "497  0.502801  0.497199\n",
            "498  0.502275  0.497725\n",
            "499  0.351107  0.648893\n",
            "\n",
            "[500 rows x 2 columns]\n",
            "         True     False\n",
            "0    0.525629  0.474371\n",
            "1    0.721629  0.278371\n",
            "2    0.607859  0.392141\n",
            "3    0.648838  0.351162\n",
            "4    0.816218  0.183782\n",
            "..        ...       ...\n",
            "495  0.587266  0.412734\n",
            "496  0.500170  0.499830\n",
            "497  0.436092  0.563908\n",
            "498  0.495410  0.504590\n",
            "499  0.354788  0.645212\n",
            "\n",
            "[500 rows x 2 columns]\n",
            "         True     False\n",
            "0    0.547751  0.452249\n",
            "1    0.722166  0.277834\n",
            "2    0.666850  0.333150\n",
            "3    0.595764  0.404236\n",
            "4    0.817540  0.182460\n",
            "..        ...       ...\n",
            "495  0.654166  0.345834\n",
            "496  0.536638  0.463362\n",
            "497  0.529178  0.470822\n",
            "498  0.517814  0.482186\n",
            "499  0.350744  0.649256\n",
            "\n",
            "[500 rows x 2 columns]\n",
            "         True     False\n",
            "0    0.559574  0.440426\n",
            "1    0.664295  0.335705\n",
            "2    0.629582  0.370417\n",
            "3    0.611663  0.388337\n",
            "4    0.799916  0.200084\n",
            "..        ...       ...\n",
            "495  0.668043  0.331957\n",
            "496  0.491564  0.508436\n",
            "497  0.467969  0.532031\n",
            "498  0.448278  0.551722\n",
            "499  0.416306  0.583694\n",
            "\n",
            "[500 rows x 2 columns]\n",
            "         True     False\n",
            "0    0.532502  0.467498\n",
            "1    0.853743  0.146257\n",
            "2    0.655745  0.344255\n",
            "3    0.567548  0.432452\n",
            "4    0.791351  0.208649\n",
            "..        ...       ...\n",
            "495  0.618729  0.381271\n",
            "496  0.458597  0.541403\n",
            "497  0.527953  0.472047\n",
            "498  0.313957  0.686044\n",
            "499  0.486012  0.513988\n",
            "\n",
            "[500 rows x 2 columns]\n",
            "         True     False\n",
            "0    0.532502  0.467498\n",
            "1    0.710129  0.289871\n",
            "2    0.656075  0.343925\n",
            "3    0.620585  0.379415\n",
            "4    0.809008  0.190992\n",
            "..        ...       ...\n",
            "495  0.524813  0.475187\n",
            "496  0.461652  0.538348\n",
            "497  0.551792  0.448208\n",
            "498  0.483546  0.516454\n",
            "499  0.349466  0.650534\n",
            "\n",
            "[500 rows x 2 columns]\n",
            "         True     False\n",
            "0    0.512277  0.487723\n",
            "1    0.745399  0.254601\n",
            "2    0.560584  0.439416\n",
            "3    0.668452  0.331548\n",
            "4    0.769207  0.230793\n",
            "..        ...       ...\n",
            "495  0.573413  0.426587\n",
            "496  0.428908  0.571092\n",
            "497  0.525495  0.474505\n",
            "498  0.499723  0.500277\n",
            "499  0.448421  0.551579\n",
            "\n",
            "[500 rows x 2 columns]\n",
            "         True     False\n",
            "0    0.532502  0.467498\n",
            "1    0.716724  0.283276\n",
            "2    0.655804  0.344196\n",
            "3    0.616853  0.383147\n",
            "4    0.816218  0.183782\n",
            "..        ...       ...\n",
            "495  0.586178  0.413822\n",
            "496  0.458597  0.541403\n",
            "497  0.466822  0.533178\n",
            "498  0.478825  0.521175\n",
            "499  0.349466  0.650534\n",
            "\n",
            "[500 rows x 2 columns]\n",
            "         True     False\n",
            "0    0.532502  0.467498\n",
            "1    0.716724  0.283276\n",
            "2    0.655804  0.344196\n",
            "3    0.616853  0.383147\n",
            "4    0.816218  0.183782\n",
            "..        ...       ...\n",
            "495  0.586178  0.413822\n",
            "496  0.458597  0.541403\n",
            "497  0.466822  0.533178\n",
            "498  0.478825  0.521175\n",
            "499  0.349466  0.650534\n",
            "\n",
            "[500 rows x 2 columns]\n",
            "         True     False\n",
            "0    0.532502  0.467498\n",
            "1    0.716724  0.283276\n",
            "2    0.653768  0.346232\n",
            "3    0.616853  0.383147\n",
            "4    0.816218  0.183782\n",
            "..        ...       ...\n",
            "495  0.586178  0.413822\n",
            "496  0.458597  0.541403\n",
            "497  0.749682  0.250318\n",
            "498  0.641303  0.358697\n",
            "499  0.540160  0.459840\n",
            "\n",
            "[500 rows x 2 columns]\n",
            "         True     False\n",
            "0    0.532502  0.467498\n",
            "1    0.716724  0.283276\n",
            "2    0.655804  0.344196\n",
            "3    0.616853  0.383147\n",
            "4    0.816218  0.183782\n",
            "..        ...       ...\n",
            "495  0.586178  0.413822\n",
            "496  0.458597  0.541403\n",
            "497  0.466822  0.533178\n",
            "498  0.478825  0.521175\n",
            "499  0.349466  0.650534\n",
            "\n",
            "[500 rows x 2 columns]\n",
            "         True     False\n",
            "0    0.532502  0.467498\n",
            "1    0.716724  0.283276\n",
            "2    0.655804  0.344196\n",
            "3    0.616853  0.383147\n",
            "4    0.816218  0.183782\n",
            "..        ...       ...\n",
            "495  0.586178  0.413822\n",
            "496  0.458597  0.541403\n",
            "497  0.466822  0.533178\n",
            "498  0.478825  0.521175\n",
            "499  0.349466  0.650534\n",
            "\n",
            "[500 rows x 2 columns]\n",
            "         True     False\n",
            "0    0.532502  0.467498\n",
            "1    0.716724  0.283276\n",
            "2    0.655804  0.344196\n",
            "3    0.616853  0.383147\n",
            "4    0.816218  0.183782\n",
            "..        ...       ...\n",
            "495  0.586178  0.413822\n",
            "496  0.458597  0.541403\n",
            "497  0.466822  0.533178\n",
            "498  0.478825  0.521175\n",
            "499  0.349466  0.650534\n",
            "\n",
            "[500 rows x 2 columns]\n",
            "         True     False\n",
            "0    0.668495  0.331505\n",
            "1    0.753509  0.246491\n",
            "2    0.649505  0.350495\n",
            "3    0.687734  0.312266\n",
            "4    0.832213  0.167787\n",
            "..        ...       ...\n",
            "495  0.621582  0.378418\n",
            "496  0.720284  0.279716\n",
            "497  0.565772  0.434228\n",
            "498  0.550351  0.449649\n",
            "499  0.408980  0.591020\n",
            "\n",
            "[500 rows x 2 columns]\n",
            "         True     False\n",
            "0    0.530820  0.469180\n",
            "1    0.694623  0.305377\n",
            "2    0.670460  0.329540\n",
            "3    0.628224  0.371776\n",
            "4    0.802728  0.197272\n",
            "..        ...       ...\n",
            "495  0.612520  0.387480\n",
            "496  0.431545  0.568455\n",
            "497  0.449930  0.550070\n",
            "498  0.473113  0.526887\n",
            "499  0.356951  0.643049\n",
            "\n",
            "[500 rows x 2 columns]\n",
            "         True     False\n",
            "0    0.528318  0.471682\n",
            "1    0.751659  0.248341\n",
            "2    0.657607  0.342393\n",
            "3    0.618446  0.381554\n",
            "4    0.821366  0.178634\n",
            "..        ...       ...\n",
            "495  0.583037  0.416962\n",
            "496  0.462860  0.537140\n",
            "497  0.501786  0.498214\n",
            "498  0.486157  0.513842\n",
            "499  0.353061  0.646939\n",
            "\n",
            "[500 rows x 2 columns]\n",
            "         True     False\n",
            "0    0.522171  0.477829\n",
            "1    0.722670  0.277330\n",
            "2    0.658179  0.341821\n",
            "3    0.624895  0.375105\n",
            "4    0.814321  0.185679\n",
            "..        ...       ...\n",
            "495  0.580889  0.419111\n",
            "496  0.476270  0.523730\n",
            "497  0.474587  0.525413\n",
            "498  0.445989  0.554011\n",
            "499  0.347523  0.652477\n",
            "\n",
            "[500 rows x 2 columns]\n",
            "         True     False\n",
            "0    0.531162  0.468838\n",
            "1    0.714250  0.285750\n",
            "2    0.645952  0.354048\n",
            "3    0.605758  0.394242\n",
            "4    0.812438  0.187562\n",
            "..        ...       ...\n",
            "495  0.577832  0.422168\n",
            "496  0.448672  0.551328\n",
            "497  0.469352  0.530648\n",
            "498  0.489399  0.510601\n",
            "499  0.343472  0.656528\n",
            "\n",
            "[500 rows x 2 columns]\n",
            "         True     False\n",
            "0    0.522910  0.477090\n",
            "1    0.709239  0.290761\n",
            "2    0.645938  0.354062\n",
            "3    0.606871  0.393129\n",
            "4    0.806251  0.193749\n",
            "..        ...       ...\n",
            "495  0.582401  0.417599\n",
            "496  0.461528  0.538472\n",
            "497  0.460532  0.539468\n",
            "498  0.468153  0.531848\n",
            "499  0.334876  0.665124\n",
            "\n",
            "[500 rows x 2 columns]\n",
            "         True     False\n",
            "0    0.532502  0.467498\n",
            "1    0.716724  0.283276\n",
            "2    0.655804  0.344196\n",
            "3    0.616853  0.383147\n",
            "4    0.816218  0.183782\n",
            "..        ...       ...\n",
            "495  0.586178  0.413822\n",
            "496  0.458597  0.541403\n",
            "497  0.466822  0.533178\n",
            "498  0.478825  0.521175\n",
            "499  0.349466  0.650534\n",
            "\n",
            "[500 rows x 2 columns]\n",
            "         True     False\n",
            "0    0.535580  0.464420\n",
            "1    0.718897  0.281103\n",
            "2    0.658866  0.341134\n",
            "3    0.613159  0.386841\n",
            "4    0.818708  0.181292\n",
            "..        ...       ...\n",
            "495  0.610015  0.389985\n",
            "496  0.453705  0.546295\n",
            "497  0.463511  0.536489\n",
            "498  0.464602  0.535398\n",
            "499  0.317623  0.682377\n",
            "\n",
            "[500 rows x 2 columns]\n",
            "         True     False\n",
            "0    0.532502  0.467498\n",
            "1    0.716724  0.283276\n",
            "2    0.655804  0.344196\n",
            "3    0.616853  0.383147\n",
            "4    0.816218  0.183782\n",
            "..        ...       ...\n",
            "495  0.586178  0.413822\n",
            "496  0.458597  0.541403\n",
            "497  0.466822  0.533178\n",
            "498  0.478825  0.521175\n",
            "499  0.349466  0.650534\n",
            "\n",
            "[500 rows x 2 columns]\n",
            "         True     False\n",
            "0    0.526473  0.473526\n",
            "1    0.723336  0.276664\n",
            "2    0.687653  0.312347\n",
            "3    0.618998  0.381002\n",
            "4    0.816318  0.183682\n",
            "..        ...       ...\n",
            "495  0.575147  0.424853\n",
            "496  0.451384  0.548616\n",
            "497  0.488106  0.511894\n",
            "498  0.479366  0.520634\n",
            "499  0.347125  0.652876\n",
            "\n",
            "[500 rows x 2 columns]\n",
            "         True     False\n",
            "0    0.531242  0.468758\n",
            "1    0.716431  0.283569\n",
            "2    0.651989  0.348011\n",
            "3    0.616853  0.383147\n",
            "4    0.817853  0.182147\n",
            "..        ...       ...\n",
            "495  0.600144  0.399856\n",
            "496  0.456822  0.543178\n",
            "497  0.481419  0.518581\n",
            "498  0.477997  0.522003\n",
            "499  0.348629  0.651371\n",
            "\n",
            "[500 rows x 2 columns]\n",
            "         True     False\n",
            "0    0.532502  0.467498\n",
            "1    0.716724  0.283276\n",
            "2    0.655804  0.344196\n",
            "3    0.616853  0.383147\n",
            "4    0.816218  0.183782\n",
            "..        ...       ...\n",
            "495  0.586178  0.413822\n",
            "496  0.458597  0.541403\n",
            "497  0.466822  0.533178\n",
            "498  0.478825  0.521175\n",
            "499  0.349466  0.650534\n",
            "\n",
            "[500 rows x 2 columns]\n",
            "         True     False\n",
            "0    0.494622  0.505378\n",
            "1    0.717189  0.282812\n",
            "2    0.633874  0.366126\n",
            "3    0.597888  0.402112\n",
            "4    0.807893  0.192107\n",
            "..        ...       ...\n",
            "495  0.552908  0.447092\n",
            "496  0.445508  0.554492\n",
            "497  0.471288  0.528712\n",
            "498  0.457871  0.542129\n",
            "499  0.277426  0.722574\n",
            "\n",
            "[500 rows x 2 columns]\n",
            "         True     False\n",
            "0    0.546007  0.453993\n",
            "1    0.717022  0.282978\n",
            "2    0.638685  0.361315\n",
            "3    0.616853  0.383147\n",
            "4    0.830499  0.169501\n",
            "..        ...       ...\n",
            "495  0.581854  0.418146\n",
            "496  0.448176  0.551824\n",
            "497  0.459571  0.540429\n",
            "498  0.468551  0.531449\n",
            "499  0.348309  0.651691\n",
            "\n",
            "[500 rows x 2 columns]\n",
            "         True     False\n",
            "0    0.532502  0.467498\n",
            "1    0.716724  0.283276\n",
            "2    0.655804  0.344196\n",
            "3    0.616853  0.383147\n",
            "4    0.816218  0.183782\n",
            "..        ...       ...\n",
            "495  0.586178  0.413822\n",
            "496  0.458597  0.541403\n",
            "497  0.466822  0.533178\n",
            "498  0.478825  0.521175\n",
            "499  0.349466  0.650534\n",
            "\n",
            "[500 rows x 2 columns]\n",
            "         True     False\n",
            "0    0.532502  0.467498\n",
            "1    0.716724  0.283276\n",
            "2    0.655804  0.344196\n",
            "3    0.616853  0.383147\n",
            "4    0.816218  0.183782\n",
            "..        ...       ...\n",
            "495  0.586178  0.413822\n",
            "496  0.458597  0.541403\n",
            "497  0.466822  0.533178\n",
            "498  0.478825  0.521175\n",
            "499  0.349466  0.650534\n",
            "\n",
            "[500 rows x 2 columns]\n",
            "         True     False\n",
            "0    0.532502  0.467498\n",
            "1    0.716724  0.283276\n",
            "2    0.655804  0.344196\n",
            "3    0.616853  0.383147\n",
            "4    0.816218  0.183782\n",
            "..        ...       ...\n",
            "495  0.586178  0.413822\n",
            "496  0.458597  0.541403\n",
            "497  0.466822  0.533178\n",
            "498  0.478825  0.521175\n",
            "499  0.349466  0.650534\n",
            "\n",
            "[500 rows x 2 columns]\n",
            "         True     False\n",
            "0    0.532502  0.467498\n",
            "1    0.716724  0.283276\n",
            "2    0.655804  0.344196\n",
            "3    0.616853  0.383147\n",
            "4    0.816218  0.183782\n",
            "..        ...       ...\n",
            "495  0.586178  0.413822\n",
            "496  0.458597  0.541403\n",
            "497  0.466822  0.533178\n",
            "498  0.478825  0.521175\n",
            "499  0.349466  0.650534\n",
            "\n",
            "[500 rows x 2 columns]\n",
            "         True     False\n",
            "0    0.532502  0.467498\n",
            "1    0.716724  0.283276\n",
            "2    0.655804  0.344196\n",
            "3    0.616853  0.383147\n",
            "4    0.816218  0.183782\n",
            "..        ...       ...\n",
            "495  0.586178  0.413822\n",
            "496  0.458597  0.541403\n",
            "497  0.466822  0.533178\n",
            "498  0.478825  0.521175\n",
            "499  0.349466  0.650534\n",
            "\n",
            "[500 rows x 2 columns]\n",
            "         True     False\n",
            "0    0.532502  0.467498\n",
            "1    0.716724  0.283276\n",
            "2    0.655804  0.344196\n",
            "3    0.616853  0.383147\n",
            "4    0.816218  0.183782\n",
            "..        ...       ...\n",
            "495  0.586178  0.413822\n",
            "496  0.458597  0.541403\n",
            "497  0.466822  0.533178\n",
            "498  0.478825  0.521175\n",
            "499  0.349466  0.650534\n",
            "\n",
            "[500 rows x 2 columns]\n",
            "         True     False\n",
            "0    0.526894  0.473106\n",
            "1    0.729752  0.270248\n",
            "2    0.702171  0.297829\n",
            "3    0.610631  0.389369\n",
            "4    0.802278  0.197722\n",
            "..        ...       ...\n",
            "495  0.574052  0.425948\n",
            "496  0.459275  0.540725\n",
            "497  0.455178  0.544822\n",
            "498  0.493760  0.506240\n",
            "499  0.352454  0.647546\n",
            "\n",
            "[500 rows x 2 columns]\n",
            "         True     False\n",
            "0    0.532502  0.467498\n",
            "1    0.713091  0.286909\n",
            "2    0.655804  0.344196\n",
            "3    0.616853  0.383147\n",
            "4    0.810370  0.189630\n",
            "..        ...       ...\n",
            "495  0.589422  0.410578\n",
            "496  0.458597  0.541403\n",
            "497  0.466822  0.533178\n",
            "498  0.478825  0.521175\n",
            "499  0.349466  0.650534\n",
            "\n",
            "[500 rows x 2 columns]\n",
            "         True     False\n",
            "0    0.532502  0.467498\n",
            "1    0.716724  0.283276\n",
            "2    0.655804  0.344196\n",
            "3    0.616853  0.383147\n",
            "4    0.816218  0.183782\n",
            "..        ...       ...\n",
            "495  0.586178  0.413822\n",
            "496  0.458597  0.541403\n",
            "497  0.466822  0.533178\n",
            "498  0.478825  0.521175\n",
            "499  0.349466  0.650534\n",
            "\n",
            "[500 rows x 2 columns]\n",
            "         True     False\n",
            "0    0.532502  0.467498\n",
            "1    0.716724  0.283276\n",
            "2    0.655804  0.344196\n",
            "3    0.616853  0.383147\n",
            "4    0.816218  0.183782\n",
            "..        ...       ...\n",
            "495  0.586178  0.413822\n",
            "496  0.458597  0.541403\n",
            "497  0.466822  0.533178\n",
            "498  0.478825  0.521175\n",
            "499  0.349466  0.650534\n",
            "\n",
            "[500 rows x 2 columns]\n",
            "         True     False\n",
            "0    0.532502  0.467498\n",
            "1    0.716724  0.283276\n",
            "2    0.655804  0.344196\n",
            "3    0.616853  0.383147\n",
            "4    0.816218  0.183782\n",
            "..        ...       ...\n",
            "495  0.586178  0.413822\n",
            "496  0.458597  0.541403\n",
            "497  0.466822  0.533178\n",
            "498  0.478825  0.521175\n",
            "499  0.349466  0.650534\n",
            "\n",
            "[500 rows x 2 columns]\n",
            "         True     False\n",
            "0    0.532502  0.467498\n",
            "1    0.716724  0.283276\n",
            "2    0.655804  0.344196\n",
            "3    0.616853  0.383147\n",
            "4    0.816218  0.183782\n",
            "..        ...       ...\n",
            "495  0.586178  0.413822\n",
            "496  0.458597  0.541403\n",
            "497  0.466822  0.533178\n",
            "498  0.478825  0.521175\n",
            "499  0.349466  0.650534\n",
            "\n",
            "[500 rows x 2 columns]\n",
            "         True     False\n",
            "0    0.549206  0.450794\n",
            "1    0.725911  0.274089\n",
            "2    0.649655  0.350345\n",
            "3    0.610034  0.389966\n",
            "4    0.814222  0.185778\n",
            "..        ...       ...\n",
            "495  0.592178  0.407822\n",
            "496  0.478022  0.521978\n",
            "497  0.490359  0.509641\n",
            "498  0.465928  0.534072\n",
            "499  0.371898  0.628102\n",
            "\n",
            "[500 rows x 2 columns]\n",
            "         True     False\n",
            "0    0.535857  0.464143\n",
            "1    0.725520  0.274480\n",
            "2    0.637735  0.362265\n",
            "3    0.622865  0.377135\n",
            "4    0.818635  0.181365\n",
            "..        ...       ...\n",
            "495  0.600550  0.399450\n",
            "496  0.451195  0.548805\n",
            "497  0.460050  0.539950\n",
            "498  0.494688  0.505312\n",
            "499  0.362967  0.637033\n",
            "\n",
            "[500 rows x 2 columns]\n",
            "         True     False\n",
            "0    0.532502  0.467498\n",
            "1    0.716724  0.283276\n",
            "2    0.655804  0.344196\n",
            "3    0.616853  0.383147\n",
            "4    0.816218  0.183782\n",
            "..        ...       ...\n",
            "495  0.586178  0.413822\n",
            "496  0.458597  0.541403\n",
            "497  0.466822  0.533178\n",
            "498  0.478825  0.521175\n",
            "499  0.349466  0.650534\n",
            "\n",
            "[500 rows x 2 columns]\n",
            "\n",
            "\n",
            "Validation checks results\n",
            "      Test case         Status\n",
            "==============================\n",
            "Null value imputation   PASSED\n"
          ],
          "name": "stdout"
        },
        {
          "output_type": "stream",
          "text": [
            "/usr/local/lib/python3.7/dist-packages/distributed/config.py:20: YAMLLoadWarning: calling yaml.load() without Loader=... is deprecated, as the default Loader is unsafe. Please read https://msg.pyyaml.org/load for full details.\n",
            "  defaults = yaml.load(f)\n",
            "/usr/local/lib/python3.7/dist-packages/distributed/config.py:20: YAMLLoadWarning: calling yaml.load() without Loader=... is deprecated, as the default Loader is unsafe. Please read https://msg.pyyaml.org/load for full details.\n",
            "  defaults = yaml.load(f)\n",
            "/usr/local/lib/python3.7/dist-packages/distributed/config.py:20: YAMLLoadWarning: calling yaml.load() without Loader=... is deprecated, as the default Loader is unsafe. Please read https://msg.pyyaml.org/load for full details.\n",
            "  defaults = yaml.load(f)\n",
            "/usr/local/lib/python3.7/dist-packages/distributed/config.py:20: YAMLLoadWarning: calling yaml.load() without Loader=... is deprecated, as the default Loader is unsafe. Please read https://msg.pyyaml.org/load for full details.\n",
            "  defaults = yaml.load(f)\n",
            "/usr/local/lib/python3.7/dist-packages/distributed/config.py:20: YAMLLoadWarning: calling yaml.load() without Loader=... is deprecated, as the default Loader is unsafe. Please read https://msg.pyyaml.org/load for full details.\n",
            "  defaults = yaml.load(f)\n",
            "/usr/local/lib/python3.7/dist-packages/distributed/config.py:20: YAMLLoadWarning: calling yaml.load() without Loader=... is deprecated, as the default Loader is unsafe. Please read https://msg.pyyaml.org/load for full details.\n",
            "  defaults = yaml.load(f)\n",
            "/usr/local/lib/python3.7/dist-packages/distributed/config.py:20: YAMLLoadWarning: calling yaml.load() without Loader=... is deprecated, as the default Loader is unsafe. Please read https://msg.pyyaml.org/load for full details.\n",
            "  defaults = yaml.load(f)\n",
            "/usr/local/lib/python3.7/dist-packages/distributed/config.py:20: YAMLLoadWarning: calling yaml.load() without Loader=... is deprecated, as the default Loader is unsafe. Please read https://msg.pyyaml.org/load for full details.\n",
            "  defaults = yaml.load(f)\n",
            "/usr/local/lib/python3.7/dist-packages/distributed/config.py:20: YAMLLoadWarning: calling yaml.load() without Loader=... is deprecated, as the default Loader is unsafe. Please read https://msg.pyyaml.org/load for full details.\n",
            "  defaults = yaml.load(f)\n",
            "/usr/local/lib/python3.7/dist-packages/distributed/config.py:20: YAMLLoadWarning: calling yaml.load() without Loader=... is deprecated, as the default Loader is unsafe. Please read https://msg.pyyaml.org/load for full details.\n",
            "  defaults = yaml.load(f)\n",
            "/usr/local/lib/python3.7/dist-packages/distributed/config.py:20: YAMLLoadWarning: calling yaml.load() without Loader=... is deprecated, as the default Loader is unsafe. Please read https://msg.pyyaml.org/load for full details.\n",
            "  defaults = yaml.load(f)\n",
            "/usr/local/lib/python3.7/dist-packages/distributed/config.py:20: YAMLLoadWarning: calling yaml.load() without Loader=... is deprecated, as the default Loader is unsafe. Please read https://msg.pyyaml.org/load for full details.\n",
            "  defaults = yaml.load(f)\n",
            "/usr/local/lib/python3.7/dist-packages/distributed/config.py:20: YAMLLoadWarning: calling yaml.load() without Loader=... is deprecated, as the default Loader is unsafe. Please read https://msg.pyyaml.org/load for full details.\n",
            "  defaults = yaml.load(f)\n",
            "/usr/local/lib/python3.7/dist-packages/distributed/config.py:20: YAMLLoadWarning: calling yaml.load() without Loader=... is deprecated, as the default Loader is unsafe. Please read https://msg.pyyaml.org/load for full details.\n",
            "  defaults = yaml.load(f)\n",
            "/usr/local/lib/python3.7/dist-packages/distributed/config.py:20: YAMLLoadWarning: calling yaml.load() without Loader=... is deprecated, as the default Loader is unsafe. Please read https://msg.pyyaml.org/load for full details.\n",
            "  defaults = yaml.load(f)\n",
            "/usr/local/lib/python3.7/dist-packages/distributed/config.py:20: YAMLLoadWarning: calling yaml.load() without Loader=... is deprecated, as the default Loader is unsafe. Please read https://msg.pyyaml.org/load for full details.\n",
            "  defaults = yaml.load(f)\n",
            "/usr/local/lib/python3.7/dist-packages/distributed/config.py:20: YAMLLoadWarning: calling yaml.load() without Loader=... is deprecated, as the default Loader is unsafe. Please read https://msg.pyyaml.org/load for full details.\n",
            "  defaults = yaml.load(f)\n",
            "/usr/local/lib/python3.7/dist-packages/distributed/config.py:20: YAMLLoadWarning: calling yaml.load() without Loader=... is deprecated, as the default Loader is unsafe. Please read https://msg.pyyaml.org/load for full details.\n",
            "  defaults = yaml.load(f)\n",
            "/usr/local/lib/python3.7/dist-packages/distributed/config.py:20: YAMLLoadWarning: calling yaml.load() without Loader=... is deprecated, as the default Loader is unsafe. Please read https://msg.pyyaml.org/load for full details.\n",
            "  defaults = yaml.load(f)\n",
            "/usr/local/lib/python3.7/dist-packages/distributed/config.py:20: YAMLLoadWarning: calling yaml.load() without Loader=... is deprecated, as the default Loader is unsafe. Please read https://msg.pyyaml.org/load for full details.\n",
            "  defaults = yaml.load(f)\n",
            "/usr/local/lib/python3.7/dist-packages/distributed/config.py:20: YAMLLoadWarning: calling yaml.load() without Loader=... is deprecated, as the default Loader is unsafe. Please read https://msg.pyyaml.org/load for full details.\n",
            "  defaults = yaml.load(f)\n",
            "/usr/local/lib/python3.7/dist-packages/distributed/config.py:20: YAMLLoadWarning: calling yaml.load() without Loader=... is deprecated, as the default Loader is unsafe. Please read https://msg.pyyaml.org/load for full details.\n",
            "  defaults = yaml.load(f)\n",
            "/usr/local/lib/python3.7/dist-packages/distributed/config.py:20: YAMLLoadWarning: calling yaml.load() without Loader=... is deprecated, as the default Loader is unsafe. Please read https://msg.pyyaml.org/load for full details.\n",
            "  defaults = yaml.load(f)\n",
            "/usr/local/lib/python3.7/dist-packages/distributed/config.py:20: YAMLLoadWarning: calling yaml.load() without Loader=... is deprecated, as the default Loader is unsafe. Please read https://msg.pyyaml.org/load for full details.\n",
            "  defaults = yaml.load(f)\n",
            "/usr/local/lib/python3.7/dist-packages/distributed/config.py:20: YAMLLoadWarning: calling yaml.load() without Loader=... is deprecated, as the default Loader is unsafe. Please read https://msg.pyyaml.org/load for full details.\n",
            "  defaults = yaml.load(f)\n",
            "/usr/local/lib/python3.7/dist-packages/distributed/config.py:20: YAMLLoadWarning: calling yaml.load() without Loader=... is deprecated, as the default Loader is unsafe. Please read https://msg.pyyaml.org/load for full details.\n",
            "  defaults = yaml.load(f)\n",
            "/usr/local/lib/python3.7/dist-packages/distributed/config.py:20: YAMLLoadWarning: calling yaml.load() without Loader=... is deprecated, as the default Loader is unsafe. Please read https://msg.pyyaml.org/load for full details.\n",
            "  defaults = yaml.load(f)\n",
            "/usr/local/lib/python3.7/dist-packages/distributed/config.py:20: YAMLLoadWarning: calling yaml.load() without Loader=... is deprecated, as the default Loader is unsafe. Please read https://msg.pyyaml.org/load for full details.\n",
            "  defaults = yaml.load(f)\n",
            "/usr/local/lib/python3.7/dist-packages/distributed/config.py:20: YAMLLoadWarning: calling yaml.load() without Loader=... is deprecated, as the default Loader is unsafe. Please read https://msg.pyyaml.org/load for full details.\n",
            "  defaults = yaml.load(f)\n",
            "/usr/local/lib/python3.7/dist-packages/distributed/config.py:20: YAMLLoadWarning: calling yaml.load() without Loader=... is deprecated, as the default Loader is unsafe. Please read https://msg.pyyaml.org/load for full details.\n",
            "  defaults = yaml.load(f)\n",
            "/usr/local/lib/python3.7/dist-packages/distributed/config.py:20: YAMLLoadWarning: calling yaml.load() without Loader=... is deprecated, as the default Loader is unsafe. Please read https://msg.pyyaml.org/load for full details.\n",
            "  defaults = yaml.load(f)\n",
            "/usr/local/lib/python3.7/dist-packages/distributed/config.py:20: YAMLLoadWarning: calling yaml.load() without Loader=... is deprecated, as the default Loader is unsafe. Please read https://msg.pyyaml.org/load for full details.\n",
            "  defaults = yaml.load(f)\n",
            "/usr/local/lib/python3.7/dist-packages/distributed/config.py:20: YAMLLoadWarning: calling yaml.load() without Loader=... is deprecated, as the default Loader is unsafe. Please read https://msg.pyyaml.org/load for full details.\n",
            "  defaults = yaml.load(f)\n",
            "/usr/local/lib/python3.7/dist-packages/distributed/config.py:20: YAMLLoadWarning: calling yaml.load() without Loader=... is deprecated, as the default Loader is unsafe. Please read https://msg.pyyaml.org/load for full details.\n",
            "  defaults = yaml.load(f)\n",
            "/usr/local/lib/python3.7/dist-packages/distributed/config.py:20: YAMLLoadWarning: calling yaml.load() without Loader=... is deprecated, as the default Loader is unsafe. Please read https://msg.pyyaml.org/load for full details.\n",
            "  defaults = yaml.load(f)\n",
            "/usr/local/lib/python3.7/dist-packages/distributed/config.py:20: YAMLLoadWarning: calling yaml.load() without Loader=... is deprecated, as the default Loader is unsafe. Please read https://msg.pyyaml.org/load for full details.\n",
            "  defaults = yaml.load(f)\n",
            "/usr/local/lib/python3.7/dist-packages/distributed/config.py:20: YAMLLoadWarning: calling yaml.load() without Loader=... is deprecated, as the default Loader is unsafe. Please read https://msg.pyyaml.org/load for full details.\n",
            "  defaults = yaml.load(f)\n",
            "/usr/local/lib/python3.7/dist-packages/distributed/config.py:20: YAMLLoadWarning: calling yaml.load() without Loader=... is deprecated, as the default Loader is unsafe. Please read https://msg.pyyaml.org/load for full details.\n",
            "  defaults = yaml.load(f)\n",
            "/usr/local/lib/python3.7/dist-packages/distributed/config.py:20: YAMLLoadWarning: calling yaml.load() without Loader=... is deprecated, as the default Loader is unsafe. Please read https://msg.pyyaml.org/load for full details.\n",
            "  defaults = yaml.load(f)\n",
            "/usr/local/lib/python3.7/dist-packages/distributed/config.py:20: YAMLLoadWarning: calling yaml.load() without Loader=... is deprecated, as the default Loader is unsafe. Please read https://msg.pyyaml.org/load for full details.\n",
            "  defaults = yaml.load(f)\n",
            "/usr/local/lib/python3.7/dist-packages/distributed/config.py:20: YAMLLoadWarning: calling yaml.load() without Loader=... is deprecated, as the default Loader is unsafe. Please read https://msg.pyyaml.org/load for full details.\n",
            "  defaults = yaml.load(f)\n",
            "/usr/local/lib/python3.7/dist-packages/distributed/config.py:20: YAMLLoadWarning: calling yaml.load() without Loader=... is deprecated, as the default Loader is unsafe. Please read https://msg.pyyaml.org/load for full details.\n",
            "  defaults = yaml.load(f)\n",
            "/usr/local/lib/python3.7/dist-packages/distributed/config.py:20: YAMLLoadWarning: calling yaml.load() without Loader=... is deprecated, as the default Loader is unsafe. Please read https://msg.pyyaml.org/load for full details.\n",
            "  defaults = yaml.load(f)\n",
            "/usr/local/lib/python3.7/dist-packages/distributed/config.py:20: YAMLLoadWarning: calling yaml.load() without Loader=... is deprecated, as the default Loader is unsafe. Please read https://msg.pyyaml.org/load for full details.\n",
            "  defaults = yaml.load(f)\n",
            "/usr/local/lib/python3.7/dist-packages/distributed/config.py:20: YAMLLoadWarning: calling yaml.load() without Loader=... is deprecated, as the default Loader is unsafe. Please read https://msg.pyyaml.org/load for full details.\n",
            "  defaults = yaml.load(f)\n",
            "/usr/local/lib/python3.7/dist-packages/distributed/config.py:20: YAMLLoadWarning: calling yaml.load() without Loader=... is deprecated, as the default Loader is unsafe. Please read https://msg.pyyaml.org/load for full details.\n",
            "  defaults = yaml.load(f)\n",
            "/usr/local/lib/python3.7/dist-packages/distributed/config.py:20: YAMLLoadWarning: calling yaml.load() without Loader=... is deprecated, as the default Loader is unsafe. Please read https://msg.pyyaml.org/load for full details.\n",
            "  defaults = yaml.load(f)\n",
            "/usr/local/lib/python3.7/dist-packages/distributed/config.py:20: YAMLLoadWarning: calling yaml.load() without Loader=... is deprecated, as the default Loader is unsafe. Please read https://msg.pyyaml.org/load for full details.\n",
            "  defaults = yaml.load(f)\n"
          ],
          "name": "stderr"
        }
      ]
    },
    {
      "cell_type": "markdown",
      "metadata": {
        "id": "UugxJupUyc7E"
      },
      "source": [
        "## Performance Testing"
      ]
    },
    {
      "cell_type": "code",
      "metadata": {
        "colab": {
          "base_uri": "https://localhost:8080/"
        },
        "id": "yNggovVD1_aD",
        "outputId": "616f36bd-d2a4-49b2-b9de-4f401c90bedd"
      },
      "source": [
        "%%sh\n",
        "drum perf-test --code-dir ./friendly-mlops/models/xgboost \\\n",
        "--input ./friendly-mlops/data/readmissions_test.csv \\\n",
        "--target-type binary \\\n",
        "--positive-class-label True \\\n",
        "--negative-class-label False"
      ],
      "execution_count": 26,
      "outputs": [
        {
          "output_type": "stream",
          "text": [
            "DRUM performance test\n",
            "Model:      /content/friendly-mlops/models/xgboost\n",
            "Data:       /content/friendly-mlops/data/readmissions_test.csv\n",
            "# Features: 48\n",
            "Preparing test data...\n",
            "\n",
            "\n",
            "\n",
            "Running test case with timeout: 600\n",
            "Running test case: 264 bytes - 1 samples, 100 iterations\n",
            "Running test case with timeout: 600\n",
            "Running test case: 0.1MB - 396 samples, 50 iterations\n",
            "Running test case with timeout: 600\n",
            "Running test case: 10MB - 39685 samples, 5 iterations\n",
            "Running test case with timeout: 600\n",
            "Running test case: 50MB - 198428 samples, 1 iterations\n",
            "Test is done stopping drum server\n",
            "\n",
            "  size      samples   iters    min     avg     max    used (MB)   total physical\n",
            "                                                                       (MB)     \n",
            "================================================================================\n",
            "264 bytes         1     100   0.087   0.091   0.108     200.566        13021.062\n",
            "0.1MB           396      50   0.108   0.115   0.148     201.027        13021.062\n",
            "10MB          39685       5   1.593   1.610   1.639     453.332        13021.062\n",
            "50MB         198428       1   7.948   7.948   7.948    1322.102        13021.062\n"
          ],
          "name": "stdout"
        },
        {
          "output_type": "stream",
          "text": [
            "tput: terminal attributes: No such device or address\n",
            "\n"
          ],
          "name": "stderr"
        }
      ]
    },
    {
      "cell_type": "markdown",
      "metadata": {
        "id": "t4p0zDG-VWJP"
      },
      "source": [
        "# Batch Scoring with DRUM\n",
        "<a id=\"setup_complete\"></a>\n",
        "\n",
        "At this point our model has been written to disk and we want to start making predictions with it.  To do this, we'll leverage DRUM and it's ability to natively handle our scikit learn model, all we need to do is tell DRUM where it resides as well as the data we wish to score.  \n",
        "\n",
        "There are a lot of frameworks which DRUM supports nateively, but for those which DRUM doesn't support of these shelf, we'll just need to create some custom hooks so DRUM.  In this example, we'll highlight some very simple custom hooks, and will provide links to more complex examples.  "
      ]
    },
    {
      "cell_type": "code",
      "metadata": {
        "id": "C_OOeqEx6hqH",
        "colab": {
          "base_uri": "https://localhost:8080/"
        },
        "outputId": "cc555d73-6ef8-4cf3-dbf9-76a36b3465db"
      },
      "source": [
        "%%sh \n",
        "%%sh\n",
        "drum score --code-dir ./friendly-mlops/models/xgboost \\\n",
        "--input ./friendly-mlops/data/readmissions_test.csv \\\n",
        "--output ./friendly-mlops/data/predictions.csv \\\n",
        "--target-type binary \\\n",
        "--positive-class-label True \\\n",
        "--negative-class-label False \\"
      ],
      "execution_count": 2,
      "outputs": [
        {
          "output_type": "stream",
          "text": [
            "sh: 1: %%sh: not found\n",
            "/usr/local/lib/python3.7/dist-packages/distributed/config.py:20: YAMLLoadWarning: calling yaml.load() without Loader=... is deprecated, as the default Loader is unsafe. Please read https://msg.pyyaml.org/load for full details.\n",
            "  defaults = yaml.load(f)\n"
          ],
          "name": "stderr"
        }
      ]
    },
    {
      "cell_type": "code",
      "metadata": {
        "id": "pLQnWJw_MrlU",
        "colab": {
          "base_uri": "https://localhost:8080/",
          "height": 221
        },
        "outputId": "5debb79a-3aee-4b5b-f1a0-8cee34ce57c9"
      },
      "source": [
        "import pandas as pd\n",
        "pd.read_csv(\"./friendly-mlops/data/predictions.csv\").head()"
      ],
      "execution_count": 3,
      "outputs": [
        {
          "output_type": "stream",
          "text": [
            "0.25.1\n"
          ],
          "name": "stdout"
        },
        {
          "output_type": "execute_result",
          "data": {
            "text/html": [
              "<div>\n",
              "<style scoped>\n",
              "    .dataframe tbody tr th:only-of-type {\n",
              "        vertical-align: middle;\n",
              "    }\n",
              "\n",
              "    .dataframe tbody tr th {\n",
              "        vertical-align: top;\n",
              "    }\n",
              "\n",
              "    .dataframe thead th {\n",
              "        text-align: right;\n",
              "    }\n",
              "</style>\n",
              "<table border=\"1\" class=\"dataframe\">\n",
              "  <thead>\n",
              "    <tr style=\"text-align: right;\">\n",
              "      <th></th>\n",
              "      <th>True</th>\n",
              "      <th>False</th>\n",
              "    </tr>\n",
              "  </thead>\n",
              "  <tbody>\n",
              "    <tr>\n",
              "      <td>0</td>\n",
              "      <td>0.532502</td>\n",
              "      <td>0.467498</td>\n",
              "    </tr>\n",
              "    <tr>\n",
              "      <td>1</td>\n",
              "      <td>0.716724</td>\n",
              "      <td>0.283276</td>\n",
              "    </tr>\n",
              "    <tr>\n",
              "      <td>2</td>\n",
              "      <td>0.655804</td>\n",
              "      <td>0.344196</td>\n",
              "    </tr>\n",
              "    <tr>\n",
              "      <td>3</td>\n",
              "      <td>0.616853</td>\n",
              "      <td>0.383147</td>\n",
              "    </tr>\n",
              "    <tr>\n",
              "      <td>4</td>\n",
              "      <td>0.816218</td>\n",
              "      <td>0.183782</td>\n",
              "    </tr>\n",
              "  </tbody>\n",
              "</table>\n",
              "</div>"
            ],
            "text/plain": [
              "       True     False\n",
              "0  0.532502  0.467498\n",
              "1  0.716724  0.283276\n",
              "2  0.655804  0.344196\n",
              "3  0.616853  0.383147\n",
              "4  0.816218  0.183782"
            ]
          },
          "metadata": {
            "tags": []
          },
          "execution_count": 3
        }
      ]
    },
    {
      "cell_type": "markdown",
      "metadata": {
        "id": "JmS971iweH6t"
      },
      "source": [
        "# Start the inference server locally\n",
        "\n",
        "Batch scoring can be very useful, but the utility DRUM offers does not stop there.  We can also leverage DRUM to serve our model as a RESTful API endpoint.  The only thing that changes is the way we will structure the command - using the `server` mode instead of `score` model.  We'll also need to provide an address which is NOT in use.  \n",
        "\n",
        "When starting the server, we'll use `subprocess.Popen` so we may interact with the server in this notebook"
      ]
    },
    {
      "cell_type": "code",
      "metadata": {
        "id": "D7BrHC1gYjHD"
      },
      "source": [
        "import subprocess\n",
        "import requests\n",
        "from io import BytesIO\n",
        "import yaml\n",
        "import time\n",
        "import os\n",
        "from pprint import pprint"
      ],
      "execution_count": 5,
      "outputs": []
    },
    {
      "cell_type": "code",
      "metadata": {
        "id": "crlRTOHcMrld"
      },
      "source": [
        "run_inference_server = [\"drum\",\n",
        "              \"server\",\n",
        "              \"--code-dir\",\"/content/friendly-mlops/models/xgboost\", \n",
        "              \"--address\", \"0.0.0.0:6789\", \n",
        "              \"--show-perf\",\n",
        "              \"--target-type\", \"binary\",\n",
        "              \"--positive-class-label\", \"True\",\n",
        "              \"--negative-class-label\", \"False\",\n",
        "              \"--logging-level\", \"info\",\n",
        "              \"--show-stacktrace\",\n",
        "              \"--verbose\",\n",
        "              # \"--production\", \n",
        "              # \"--max-workers\", \"5\"\n",
        "              ]"
      ],
      "execution_count": 6,
      "outputs": []
    },
    {
      "cell_type": "code",
      "metadata": {
        "id": "jWvksr_sYlEr"
      },
      "source": [
        "inference_server = subprocess.Popen(run_inference_server, stdout=subprocess.PIPE)"
      ],
      "execution_count": 7,
      "outputs": []
    },
    {
      "cell_type": "code",
      "metadata": {
        "id": "eZfzEEPZ9kZG"
      },
      "source": [
        "# !sudo service nginx status"
      ],
      "execution_count": 8,
      "outputs": []
    },
    {
      "cell_type": "markdown",
      "metadata": {
        "id": "peFenY-leJo3"
      },
      "source": [
        "## Ping the Server to make sure it is running"
      ]
    },
    {
      "cell_type": "code",
      "metadata": {
        "id": "jmh7SRfQVnTU",
        "colab": {
          "base_uri": "https://localhost:8080/"
        },
        "outputId": "912f3465-5324-48c3-ffe8-20ab1b32884c"
      },
      "source": [
        "## confirm the server is running\n",
        "time.sleep(5) ## snoozing before pinging the server to give it time to actually start\n",
        "print('check status')\n",
        "requests.request(\"GET\", \"http://0.0.0.0:6789/\").content"
      ],
      "execution_count": 9,
      "outputs": [
        {
          "output_type": "stream",
          "text": [
            "check status\n"
          ],
          "name": "stdout"
        },
        {
          "output_type": "execute_result",
          "data": {
            "text/plain": [
              "b'{\"message\":\"OK\"}\\n'"
            ]
          },
          "metadata": {
            "tags": []
          },
          "execution_count": 9
        }
      ]
    },
    {
      "cell_type": "markdown",
      "metadata": {
        "id": "JOsaTgXOeNMG"
      },
      "source": [
        "## Send data to server for inference\n",
        "\n",
        "The request must provide our dataset as form data.  In order to do so, we'll create a simple python function to pass the data over appropriately.  We'll leverage the same function in our simple flask app a little later.  "
      ]
    },
    {
      "cell_type": "code",
      "metadata": {
        "id": "iZ-sZcHMYmRx"
      },
      "source": [
        "def score(data, port = \"6789\"):\n",
        "    b_buf = BytesIO()\n",
        "    b_buf.write(data.to_csv(index=False).encode(\"utf-8\"))\n",
        "    b_buf.seek(0)\n",
        "  \n",
        "    url = \"http://localhost:{}/predict/\".format(port)\n",
        "    files = [\n",
        "        ('X', b_buf)\n",
        "    ]\n",
        "    response = requests.request(\"POST\", url, files = files, timeout=None, verify=False)\n",
        "    return response"
      ],
      "execution_count": 10,
      "outputs": []
    },
    {
      "cell_type": "code",
      "metadata": {
        "id": "HjdKXUcUWUXq",
        "colab": {
          "base_uri": "https://localhost:8080/",
          "height": 204
        },
        "outputId": "6a4c9496-8a42-441a-c2b9-91f96750c0f1"
      },
      "source": [
        "# %%timeit\n",
        "scoring_data = pd.read_csv(\"./friendly-mlops/data/readmissions_test.csv\")\n",
        "predictions = score(scoring_data).json() ## score entire dataset but only show first 5 records\n",
        "pd.DataFrame(predictions[\"predictions\"]).head()"
      ],
      "execution_count": 12,
      "outputs": [
        {
          "output_type": "execute_result",
          "data": {
            "text/html": [
              "<div>\n",
              "<style scoped>\n",
              "    .dataframe tbody tr th:only-of-type {\n",
              "        vertical-align: middle;\n",
              "    }\n",
              "\n",
              "    .dataframe tbody tr th {\n",
              "        vertical-align: top;\n",
              "    }\n",
              "\n",
              "    .dataframe thead th {\n",
              "        text-align: right;\n",
              "    }\n",
              "</style>\n",
              "<table border=\"1\" class=\"dataframe\">\n",
              "  <thead>\n",
              "    <tr style=\"text-align: right;\">\n",
              "      <th></th>\n",
              "      <th>True</th>\n",
              "      <th>False</th>\n",
              "    </tr>\n",
              "  </thead>\n",
              "  <tbody>\n",
              "    <tr>\n",
              "      <td>0</td>\n",
              "      <td>0.532502</td>\n",
              "      <td>0.467498</td>\n",
              "    </tr>\n",
              "    <tr>\n",
              "      <td>1</td>\n",
              "      <td>0.716724</td>\n",
              "      <td>0.283276</td>\n",
              "    </tr>\n",
              "    <tr>\n",
              "      <td>2</td>\n",
              "      <td>0.655804</td>\n",
              "      <td>0.344196</td>\n",
              "    </tr>\n",
              "    <tr>\n",
              "      <td>3</td>\n",
              "      <td>0.616853</td>\n",
              "      <td>0.383147</td>\n",
              "    </tr>\n",
              "    <tr>\n",
              "      <td>4</td>\n",
              "      <td>0.816218</td>\n",
              "      <td>0.183782</td>\n",
              "    </tr>\n",
              "  </tbody>\n",
              "</table>\n",
              "</div>"
            ],
            "text/plain": [
              "       True     False\n",
              "0  0.532502  0.467498\n",
              "1  0.716724  0.283276\n",
              "2  0.655804  0.344196\n",
              "3  0.616853  0.383147\n",
              "4  0.816218  0.183782"
            ]
          },
          "metadata": {
            "tags": []
          },
          "execution_count": 12
        }
      ]
    },
    {
      "cell_type": "code",
      "metadata": {
        "id": "6a20HW9uMrl1",
        "colab": {
          "base_uri": "https://localhost:8080/"
        },
        "outputId": "ff5d1108-fefa-473d-8b91-01f67327bc4d"
      },
      "source": [
        "requests.request(\"POST\", \"http://0.0.0.0:6789/shutdown\").content"
      ],
      "execution_count": 14,
      "outputs": [
        {
          "output_type": "execute_result",
          "data": {
            "text/plain": [
              "b'Server shutting down...'"
            ]
          },
          "metadata": {
            "tags": []
          },
          "execution_count": 14
        }
      ]
    },
    {
      "cell_type": "code",
      "metadata": {
        "id": "PG3HHHnR942W",
        "colab": {
          "base_uri": "https://localhost:8080/"
        },
        "outputId": "ed6f5ccc-37a1-4a26-8247-779546825a9b"
      },
      "source": [
        "inference_server.terminate()\n",
        "inference_server.stdout.readlines()"
      ],
      "execution_count": 15,
      "outputs": [
        {
          "output_type": "execute_result",
          "data": {
            "text/plain": [
              "[b'Detected REST server mode - this is an advanced option\\n',\n",
              " b'Detected /content/friendly-mlops/models/xgboost/custom.py .. trying to load hooks\\n',\n",
              " b'\\x1b[32m \\x1b[0m\\n',\n",
              " b'\\x1b[32m \\x1b[0m\\n',\n",
              " b'\\x1b[32m============================================================\\x1b[0m\\n',\n",
              " b'\\x1b[32mComponent: prediction_server\\x1b[0m\\n',\n",
              " b'\\x1b[32mLanguage:  Python\\x1b[0m\\n',\n",
              " b'\\x1b[32mOutput:\\x1b[0m\\n',\n",
              " b'\\x1b[32m------------------------------------------------------------\\x1b[0m\\n',\n",
              " b' * Serving Flask app \"datarobot_drum.drum.server\" (lazy loading)\\n',\n",
              " b' * Environment: production\\n',\n",
              " b'   WARNING: This is a development server. Do not use it in a production deployment.\\n',\n",
              " b'   Use a production WSGI server instead.\\n',\n",
              " b' * Debug mode: off\\n',\n",
              " b'run_predictor_total:\\n',\n",
              " b'\\tsec: min: 0.13; avg: 0.13; max: 0.13\\n',\n",
              " b'\\x1b[32m------------------------------------------------------------\\x1b[0m\\n',\n",
              " b'\\x1b[32mRuntime:    127.4 sec\\x1b[0m\\n',\n",
              " b'\\x1b[32mNR outputs: 0\\x1b[0m\\n',\n",
              " b'\\x1b[32m============================================================\\x1b[0m\\n',\n",
              " b'\\x1b[32m \\x1b[0m\\n']"
            ]
          },
          "metadata": {
            "tags": []
          },
          "execution_count": 15
        }
      ]
    },
    {
      "cell_type": "code",
      "metadata": {
        "id": "1fXsO0ZQ9wGn",
        "colab": {
          "base_uri": "https://localhost:8080/"
        },
        "outputId": "1218ba41-c7c2-4d26-d5e3-34be04b55310"
      },
      "source": [
        "# %%sh\n",
        "# nginx -s stop\n",
        "# sudo service nginx status"
      ],
      "execution_count": null,
      "outputs": [
        {
          "output_type": "stream",
          "text": [
            " * nginx is not running\n"
          ],
          "name": "stdout"
        }
      ]
    },
    {
      "cell_type": "markdown",
      "metadata": {
        "id": "OIGQMPjgMrl3"
      },
      "source": [
        "## Value Prop\n",
        "\n",
        "One may ask, what is the benefit to be had here?  Well, first of, there is not need for me to write an api to get the model up and running.  Second, DRUM allows me to abstract the framework away (provided I'm using one that is natively supported, or I can write enough python so that DRUM understands how to hook up to the model.  \n",
        "\n",
        "For example, I could hot swap models as I see fit (see exampels in `./friendly-mlops/models`)\n",
        "\n",
        "While we will run through several other frameworks with in `score` you can bet they are supported in `server` mode as well!"
      ]
    },
    {
      "cell_type": "markdown",
      "metadata": {
        "id": "eHGKKPfNMrl4"
      },
      "source": [
        "#### H2O GLM Mojo"
      ]
    },
    {
      "cell_type": "code",
      "metadata": {
        "id": "oPxTpC-NMrl4",
        "colab": {
          "base_uri": "https://localhost:8080/"
        },
        "outputId": "4323f9ad-f01e-4bd6-e66e-df2609f5cf90"
      },
      "source": [
        "%%sh\n",
        "drum score \\\n",
        "--code-dir ./friendly-mlops/models/h2o \\\n",
        "--input ./friendly-mlops/data/readmissions_test.csv \\\n",
        "--target-type binary \\\n",
        "--positive-class-label True \\\n",
        "--negative-class-label False \\"
      ],
      "execution_count": 17,
      "outputs": [
        {
          "output_type": "stream",
          "text": [
            "        FALSE      TRUE\n",
            "0    0.713687  0.286313\n",
            "1    0.791950  0.208050\n",
            "2    0.451245  0.548755\n",
            "3    0.632735  0.367265\n",
            "4    0.757495  0.242505\n",
            "..        ...       ...\n",
            "495  0.591182  0.408818\n",
            "496  0.657564  0.342436\n",
            "497  0.699272  0.300728\n",
            "498  0.324734  0.675266\n",
            "499  0.302756  0.697244\n",
            "\n",
            "[500 rows x 2 columns]\n"
          ],
          "name": "stdout"
        }
      ]
    },
    {
      "cell_type": "markdown",
      "metadata": {
        "id": "35pX5I94Mrl7"
      },
      "source": [
        "#### DataRobot Light GBM"
      ]
    },
    {
      "cell_type": "code",
      "metadata": {
        "id": "mz6CNMITMrl7",
        "colab": {
          "base_uri": "https://localhost:8080/"
        },
        "outputId": "51ce0ee3-503e-43a2-c6f6-51a3d5b735b7"
      },
      "source": [
        "%%sh\n",
        "drum score \\\n",
        "--code-dir ./friendly-mlops/models/datarobot \\\n",
        "--input ./friendly-mlops/data/readmissions_test.csv \\\n",
        "--target-type binary \\\n",
        "--positive-class-label True \\\n",
        "--negative-class-label False \\"
      ],
      "execution_count": 18,
      "outputs": [
        {
          "output_type": "stream",
          "text": [
            "         True     False\n",
            "0    0.335276  0.664724\n",
            "1    0.293130  0.706870\n",
            "2    0.493023  0.506977\n",
            "3    0.353853  0.646147\n",
            "4    0.212991  0.787009\n",
            "..        ...       ...\n",
            "495  0.547511  0.452489\n",
            "496  0.346488  0.653512\n",
            "497  0.550543  0.449457\n",
            "498  0.520717  0.479283\n",
            "499  0.732253  0.267747\n",
            "\n",
            "[500 rows x 2 columns]\n"
          ],
          "name": "stdout"
        }
      ]
    },
    {
      "cell_type": "markdown",
      "metadata": {
        "id": "PsanmxC-Mrl9"
      },
      "source": [
        "#### Python Catboost"
      ]
    },
    {
      "cell_type": "code",
      "metadata": {
        "id": "myCq6e63Mrl-",
        "colab": {
          "base_uri": "https://localhost:8080/"
        },
        "outputId": "867fc7f2-8ee0-4d9b-f48f-6e871d6ddc61"
      },
      "source": [
        "%%sh\n",
        "drum score \\\n",
        "--code-dir ./friendly-mlops/models/catboost \\\n",
        "--input ./friendly-mlops/data/readmissions_test.csv \\\n",
        "--target-type binary \\\n",
        "--positive-class-label True \\\n",
        "--negative-class-label False \\"
      ],
      "execution_count": 20,
      "outputs": [
        {
          "output_type": "stream",
          "text": [
            "         True     False\n",
            "0    0.735228  0.264772\n",
            "1    0.735228  0.264772\n",
            "2    0.419437  0.580563\n",
            "3    0.591693  0.408307\n",
            "4    0.735228  0.264772\n",
            "..        ...       ...\n",
            "495  0.591693  0.408307\n",
            "496  0.591693  0.408307\n",
            "497  0.486772  0.513228\n",
            "498  0.419437  0.580563\n",
            "499  0.419437  0.580563\n",
            "\n",
            "[500 rows x 2 columns]\n"
          ],
          "name": "stdout"
        },
        {
          "output_type": "stream",
          "text": [
            "/usr/local/lib/python3.7/dist-packages/distributed/config.py:20: YAMLLoadWarning: calling yaml.load() without Loader=... is deprecated, as the default Loader is unsafe. Please read https://msg.pyyaml.org/load for full details.\n",
            "  defaults = yaml.load(f)\n"
          ],
          "name": "stderr"
        }
      ]
    },
    {
      "cell_type": "markdown",
      "metadata": {
        "id": "1STyzxDR6Gnf"
      },
      "source": [
        "## Humility\n",
        "\n",
        "Whether or not your model can handle missing values for features and new levels for categorical data is a seperate issue from what to do when missing values and new levels occur within the data. \n",
        "\n",
        "Machine learning models are not infaliable.  They can learn biases and get things wrong.  We'll consider adding a layer of humility to our model as they reside in production by introducing actions to take in certain instances.  \n",
        "\n",
        "* Should you model make predictions as usual when an outlying input is observed?  \n",
        "\n",
        "* Your model can handle new levels of categoricals, but should you let it??  Should you throw provide a prediction but log the observation?\n",
        "\n",
        "* In the case of prediction, how should you handle uncertain predictions (classification) or unreasonably high or low predictions (regression)\n"
      ]
    },
    {
      "cell_type": "markdown",
      "metadata": {
        "id": "NgiJXvZG8LY9"
      },
      "source": [
        "## Humility on 10K Diabetes\n",
        "\n",
        "To introduce humility to our XGBoost model, a simple class was written to be involked in our custom.py script, specifically, we'll have a humility check that runs on input features within the `transform` hook, and a humility check that happens on the predictions within the `post_processing` hook.  \n",
        "\n",
        "For example, in our humility rules for 10k diabetes, we'll consider a rule for \n",
        "* outlying input for `time_in_hospital`\n",
        "* `prediction` override\n",
        "* known / unknown levels for `race`\n",
        "\n",
        "```\n",
        "- feature: race\n",
        "  rule: categorical  \n",
        "  known_values:\n",
        "    - Caucasian\n",
        "    - AfricanAmerican\n",
        "    - Hispanic\n",
        "    - Other\n",
        "    - Asian\n",
        "    - \"?\"\n",
        "  action:\n",
        "    key: do nothing\n",
        "    value: null \n",
        "- feature: time_in_hospital\n",
        "  rule: outlying_input\n",
        "  bounds:\n",
        "    lower_bound: 1\n",
        "    upper_bound: 100\n",
        "  action:\n",
        "    key: do nothing\n",
        "    value: null\n",
        "- prediction_column: \"True\"\n",
        "  bounds:\n",
        "    lower_bound: 0.48\n",
        "    upper_bound: 0.52\n",
        "  rule: uncertain_prediction\n",
        "  action: \n",
        "    key: override_prediction\n",
        "    value: 0.0\n",
        "```"
      ]
    },
    {
      "cell_type": "markdown",
      "metadata": {
        "id": "J8YZOOtJ_7pX"
      },
      "source": [
        "! cd ./friendly-mlops && git pull"
      ]
    },
    {
      "cell_type": "code",
      "metadata": {
        "colab": {
          "base_uri": "https://localhost:8080/"
        },
        "id": "5evvn68_6F5j",
        "outputId": "daa6ebdd-bedc-4a98-dbc6-8cdbf692c477"
      },
      "source": [
        "%%sh\n",
        "drum score \\\n",
        "--code-dir ./friendly-mlops/models/xgboost-with-humility \\\n",
        "--input ./friendly-mlops/data/readmissions_test_humility.csv \\\n",
        "--target-type binary \\\n",
        "--positive-class-label True \\\n",
        "--negative-class-label False \\"
      ],
      "execution_count": 43,
      "outputs": [
        {
          "output_type": "stream",
          "text": [
            "         True     False\n",
            "0    0.609406  0.390594\n",
            "1    0.716724  0.283276\n",
            "2    0.647538  0.352462\n",
            "3    0.595122  0.404878\n",
            "4    0.816218  0.183782\n",
            "..        ...       ...\n",
            "495  0.586178  0.413822\n",
            "496  0.458597  0.541403\n",
            "497  0.466822  0.533178\n",
            "498  0.478825  0.521175\n",
            "499  0.349466  0.650534\n",
            "\n",
            "[500 rows x 2 columns]\n"
          ],
          "name": "stdout"
        },
        {
          "output_type": "stream",
          "text": [
            "/usr/local/lib/python3.7/dist-packages/distributed/config.py:20: YAMLLoadWarning: calling yaml.load() without Loader=... is deprecated, as the default Loader is unsafe. Please read https://msg.pyyaml.org/load for full details.\n",
            "  defaults = yaml.load(f)\n",
            "2021-03-28 18:07:02,547 WARNING KnownCategories:  new levels detected for feature age: ['[99-103)']\n",
            "2021-03-28 18:07:02,550 WARNING KnownCategories:  new levels detected for feature race: [nan]\n",
            "2021-03-28 18:07:02,552 WARNING OutlyingInput:  input not in [1, 100] for feature time_in_hospital\n",
            "2021-03-28 18:07:02,654 WARNING UncertainPrediction:  uncertain prediction made\n"
          ],
          "name": "stderr"
        }
      ]
    },
    {
      "cell_type": "markdown",
      "metadata": {
        "id": "3b64jAKbMrmD"
      },
      "source": [
        "# Monitoring Deployments\n",
        "\n",
        "What follows will require a DataRobot account.  You can get a trial account at [https://www.datarobot.com/trial/](https://www.datarobot.com/trial/)\n",
        "\n",
        "Also, JDK 11 or 12 will be required.\n",
        "\n",
        "The main idea: we'll will start an agent service locally.  This agent will be monitoring a spooler.  The spooler could be something as simple as local file system, or a little more realistic like a message broker (pubsub, rabbitmq, sqs).  \n",
        "\n",
        "Once, this agent is spun up locally, we'll enable a few environment variables to let DRUM know that there is an agent present and that it needs to buffer data to defined spool.  "
      ]
    },
    {
      "cell_type": "markdown",
      "metadata": {
        "id": "Tfg4efhHMrmE"
      },
      "source": [
        "## Getting the monitoring agents\n",
        "\n"
      ]
    },
    {
      "cell_type": "markdown",
      "metadata": {
        "id": "d3859XOYMrmE"
      },
      "source": [
        "Currently - have to go in through the [UI](https://app2.datarobot.com/account/developer-tools) to grab the agents "
      ]
    },
    {
      "cell_type": "code",
      "metadata": {
        "id": "Nc7dZ5Ti4n-W"
      },
      "source": [
        "import datarobot as dr"
      ],
      "execution_count": null,
      "outputs": []
    },
    {
      "cell_type": "code",
      "metadata": {
        "id": "JsnraGL9MrmF"
      },
      "source": [
        "token = \"token\"\n",
        "endpoint = \"https://app2.datarobot.com\"\n",
        "## connect to DataRobot platform with python client. \n",
        "client = dr.Client(token, \"{}/api/v2\".format(endpoint))\n",
        "# mlops_agents_tb = client.get(\"mlopsInstaller\")\n",
        "# with open(\"/content/odsc-ml-drum/mlops-agent.tar.gz\", \"wb\") as f:\n",
        "#     f.write(mlops_agents_tb.content)"
      ],
      "execution_count": null,
      "outputs": []
    },
    {
      "cell_type": "code",
      "metadata": {
        "id": "D6BU9DbfMrmL"
      },
      "source": [
        "# !tar -xf /content/mlops-agent.tar.gz -C ..\n",
        "!tar -xf /content/datarobot-mlops-agent-6.2.4-399.tar.gz -C ."
      ],
      "execution_count": null,
      "outputs": []
    },
    {
      "cell_type": "markdown",
      "metadata": {
        "id": "zCvCVHTyMrmO"
      },
      "source": [
        "## Configuring the Agent\n",
        "\n",
        "When we'll configure the agent, we just need to define the DataRobot MLOPS location, our api token.  By default, the agent will expect the data to be spooled on the local file system.  Specifically, the default location will be `/tmp/ta` so we just need to make sure that location exists"
      ]
    },
    {
      "cell_type": "code",
      "metadata": {
        "id": "bmhhI_2_MrmO"
      },
      "source": [
        "!mkdir -p /tmp/ta"
      ],
      "execution_count": null,
      "outputs": []
    },
    {
      "cell_type": "code",
      "metadata": {
        "id": "RDVCJw4qMrmS"
      },
      "source": [
        "agents_dir = \"/content/datarobot-mlops-agent-6.2.4\"\n",
        "with open(r'{}/conf/mlops.agent.conf.yaml'.format(agents_dir)) as file:\n",
        "    documents = yaml.load(file, Loader=yaml.FullLoader)\n",
        "## configure the loaction of the mlops instance with which we'll communcate\n",
        "documents['mlopsUrl'] = endpoint\n",
        "# Set your API token\n",
        "documents['apiToken'] = token\n",
        "## write the configuration back to disk\n",
        "with open('../{}/conf/mlops.agent.conf.yaml'.format(agents_dir), \"w\") as f:\n",
        "    yaml.dump(documents, f)"
      ],
      "execution_count": null,
      "outputs": []
    },
    {
      "cell_type": "markdown",
      "metadata": {
        "id": "xdaHl8XGMrmU"
      },
      "source": [
        "## Start the Agent Service\n",
        "\n",
        "Checking to make sure we can start up the agents service.  \n",
        "\n",
        "This will require a JDK - tested with 11 and 12"
      ]
    },
    {
      "cell_type": "code",
      "metadata": {
        "id": "wXqlGPhVMrmU",
        "colab": {
          "base_uri": "https://localhost:8080/"
        },
        "outputId": "a6d91314-67f9-4061-efff-ce22238993bf"
      },
      "source": [
        "## run agents service\n",
        "subprocess.call(\"{}/bin/start-agent.sh\".format(agents_dir))"
      ],
      "execution_count": null,
      "outputs": [
        {
          "output_type": "execute_result",
          "data": {
            "text/plain": [
              "0"
            ]
          },
          "metadata": {
            "tags": []
          },
          "execution_count": 42
        }
      ]
    },
    {
      "cell_type": "code",
      "metadata": {
        "id": "0ED-Oqh8MrmX",
        "colab": {
          "base_uri": "https://localhost:8080/"
        },
        "outputId": "77b094ad-cc66-4d76-d107-fc0d0d0147a5"
      },
      "source": [
        "## check status\n",
        "check = subprocess.Popen([\"../{}/bin/status-agent.sh\".format(agents_dir)], stdout=subprocess.PIPE)\n",
        "print(check.stdout.readlines())\n",
        "check.terminate()"
      ],
      "execution_count": null,
      "outputs": [
        {
          "output_type": "stream",
          "text": [
            "[b'DataRobot MLOps-Agent is running as a service.\\n']\n"
          ],
          "name": "stdout"
        }
      ]
    },
    {
      "cell_type": "code",
      "metadata": {
        "id": "SyOhPs-6MrmZ",
        "colab": {
          "base_uri": "https://localhost:8080/"
        },
        "outputId": "6f479490-07a8-4fb4-a6ad-e23a3aff7797"
      },
      "source": [
        "## check log to see that the agent connected to DR MLOps\n",
        "check = subprocess.Popen([\"cat\", \"../{}/logs/mlops.agent.log\".format(agents_dir)], stdout=subprocess.PIPE)\n",
        "for line in check.stdout.readlines():\n",
        "    print(line)\n",
        "check.terminate()"
      ],
      "execution_count": null,
      "outputs": [
        {
          "output_type": "stream",
          "text": [
            "b'2020-11-16 19:01:02,449 INFO  com.datarobot.mlops.agent.config.channels.YamlBuilder        [] - Found spooler of type FILESYSTEM\\n'\n",
            "b'2020-11-16 19:01:02,452 INFO  com.datarobot.mlops.agent.config.channels.YamlBuilder        [] - Setting directory = /tmp/ta\\n'\n",
            "b'2020-11-16 19:01:02,453 INFO  com.datarobot.mlops.agent.config.channels.YamlBuilder        [] - Setting CHANNEL_NAME = filesystem\\n'\n",
            "b\"2020-11-16 19:01:03,699 INFO  com.datarobot.mlops.common.client.MLOpsClient                [] - DataRobot Server API Version found: '2.22'\\n\"\n",
            "b\"2020-11-16 19:01:04,258 INFO  com.datarobot.mlops.common.client.MLOpsClient                [] - DataRobot Server API Version found: '2.22'\\n\"\n",
            "b\"2020-11-16 19:01:04,259 INFO  com.datarobot.mlops.agent.Agent                              [] - DataRobot server at 'https://app2.datarobot.com' is reachable.\\n\"\n",
            "b'2020-11-16 19:01:04,259 INFO  com.datarobot.mlops.agent.Agent                              [] - DataRobot Monitoring Agent will process 100 records at a time at most.\\n'\n",
            "b'2020-11-16 19:01:04,261 INFO  com.datarobot.mlops.agent.AgentRunner                        [] - Creating new agent channel\\n'\n",
            "b'2020-11-16 19:01:04,261 INFO  com.datarobot.mlops.agent.AgentRunner                        [] - Initializing agent channel\\n'\n",
            "b'2020-11-16 19:01:04,300 INFO  com.datarobot.mlops.agent.AgentRunner                        [] - Initialized\\n'\n",
            "b'2020-11-16 19:01:04,302 INFO  com.datarobot.mlops.agent.AgentRunner                        [] - Listing channels:\\n'\n",
            "b'\\tChannel Name: filesystem, Channel Type: FILESYSTEM\\n'\n",
            "b'\\n'\n",
            "b'2020-11-16 19:01:04,304 INFO  com.datarobot.mlops.agent.AgentRunner                        [] - Running agent as service process pid and hostname [1239@ab84dd6ef507]\\n'\n"
          ],
          "name": "stdout"
        }
      ]
    },
    {
      "cell_type": "markdown",
      "metadata": {
        "id": "mpKEu8LsMrmb"
      },
      "source": [
        "## DataRobot MLOps - Deploying External Model "
      ]
    },
    {
      "cell_type": "markdown",
      "metadata": {
        "id": "CzhVEIIhMrmb"
      },
      "source": [
        "To communication with DataRobot MLOps, with need to MLOps python client installed which came in the downloaded tarball"
      ]
    },
    {
      "cell_type": "code",
      "metadata": {
        "id": "VDk1PZv6Mrmc",
        "colab": {
          "base_uri": "https://localhost:8080/"
        },
        "outputId": "6d5ac2e1-bc94-423a-ef78-d0501e831c34"
      },
      "source": [
        "!pip install /content/datarobot-mlops-*/lib/datarobot_mlops-*.whl -q"
      ],
      "execution_count": null,
      "outputs": [
        {
          "output_type": "stream",
          "text": [
            "\u001b[K     |████████████████████████████████| 112kB 13.6MB/s \n",
            "\u001b[K     |████████████████████████████████| 133kB 23.5MB/s \n",
            "\u001b[K     |████████████████████████████████| 5.9MB 18.5MB/s \n",
            "\u001b[K     |████████████████████████████████| 204kB 55.4MB/s \n",
            "\u001b[K     |████████████████████████████████| 71kB 9.9MB/s \n",
            "\u001b[K     |████████████████████████████████| 552kB 48.3MB/s \n",
            "\u001b[31mERROR: datascience 0.10.6 has requirement folium==0.2.1, but you'll have folium 0.8.3 which is incompatible.\u001b[0m\n",
            "\u001b[?25h"
          ],
          "name": "stdout"
        }
      ]
    },
    {
      "cell_type": "code",
      "metadata": {
        "id": "U73bULPOMrme"
      },
      "source": [
        "from datarobot.mlops.mlops import MLOps\n",
        "from datarobot.mlops.common.enums import OutputType\n",
        "from datarobot.mlops.connected.client import MLOpsClient\n",
        "from datarobot.mlops.common.exception import DRConnectedException\n",
        "from datarobot.mlops.constants import Constants"
      ],
      "execution_count": null,
      "outputs": []
    },
    {
      "cell_type": "code",
      "metadata": {
        "id": "DnC0LZIFMrmg"
      },
      "source": [
        "DEPLOYMENT_NAME=\"10 Diabetes Readmissions Prediction\"\n",
        "TRAINING_DATA = '/content/friendly-mlops/data/readmissions_train.csv'"
      ],
      "execution_count": null,
      "outputs": []
    },
    {
      "cell_type": "code",
      "metadata": {
        "id": "TZO6QToQMrmi"
      },
      "source": [
        "model_info = {\n",
        "        \"name\": \"Boston Housing Pricins\",\n",
        "        \"modelDescription\": {\n",
        "            \"description\": \"prediction price of home\"\n",
        "        },\n",
        "        \"target\": {\n",
        "            \"type\": \"Binary\",\n",
        "            \"name\": \"readmitted\",\n",
        "            \"positiveClassLabel\": \"True\",\n",
        "            \"negativeClassLabel\": \"False\"\n",
        "        }\n",
        "}"
      ],
      "execution_count": null,
      "outputs": []
    },
    {
      "cell_type": "code",
      "metadata": {
        "id": "wz3coM_7Mrml",
        "colab": {
          "base_uri": "https://localhost:8080/"
        },
        "outputId": "02d52f9d-3563-407f-d29d-21245a12553d"
      },
      "source": [
        "# Create connected client\n",
        "mlops_client = MLOpsClient(endpoint, token)\n",
        "\n",
        "# Add training_data to model configuration\n",
        "print(\"Uploading training data - {}. This may take some time...\".format(TRAINING_DATA))\n",
        "dataset_id = mlops_client.upload_dataset(TRAINING_DATA)\n",
        "print(\"Training dataset uploaded. Catalog ID {}.\".format(dataset_id))\n",
        "model_info[\"datasets\"] = {\"trainingDataCatalogId\": dataset_id}\n",
        "\n",
        "# Create the model package\n",
        "print('Create model package')\n",
        "model_pkg_id = mlops_client.create_model_package(model_info)\n",
        "model_pkg = mlops_client.get_model_package(model_pkg_id)\n",
        "model_id = model_pkg[\"modelId\"]\n",
        "\n",
        "# Deploy the model package\n",
        "print('Deploy model package')\n",
        "deployment_id = mlops_client.deploy_model_package(model_pkg[\"id\"],\n",
        "                                                            DEPLOYMENT_NAME)\n",
        "\n",
        "# Enable data drift tracking\n",
        "print('Enable feature drift')\n",
        "enable_feature_drift = TRAINING_DATA is not None\n",
        "mlops_client.update_deployment_settings(deployment_id, target_drift=True,\n",
        "                                                  feature_drift=enable_feature_drift)\n",
        "_ = mlops_client.get_deployment_settings(deployment_id)\n",
        "\n",
        "print(\"\\nDone.\")\n",
        "print(\"DEPLOYMENT_ID=%s, MODEL_ID=%s\" % (deployment_id, model_id))\n",
        "\n",
        "DEPLOYMENT_ID = deployment_id\n",
        "MODEL_ID = model_id"
      ],
      "execution_count": null,
      "outputs": [
        {
          "output_type": "stream",
          "text": [
            "Uploading training data - /content/odsc-ml-drum/data/boston_housing.csv. This may take some time...\n",
            "Training dataset uploaded. Catalog ID 5fb2cc94e3a7e9072ed463fa.\n",
            "Create model package\n",
            "Deploy model package\n",
            "Enable feature drift\n",
            "\n",
            "Done.\n",
            "DEPLOYMENT_ID=5fb2ccba6a2cd70255b0fa2c, MODEL_ID=5fb2ccb82133930df77dea02\n"
          ],
          "name": "stdout"
        }
      ]
    },
    {
      "cell_type": "code",
      "metadata": {
        "id": "k96KiRFiMrmn",
        "colab": {
          "base_uri": "https://localhost:8080/"
        },
        "outputId": "e96f12e9-2d5e-49b2-87dd-d3b3a6e4aade"
      },
      "source": [
        "from IPython.core.display import display, HTML\n",
        "link = \"{}/deployments/{}/overview\".format(endpoint,deployment_id)\n",
        "# display(HTML(\"\"\"<a href=\"{link}\">{link}</a>\"\"\".format( link=link )))\n",
        "print(link)"
      ],
      "execution_count": null,
      "outputs": [
        {
          "output_type": "stream",
          "text": [
            "https://app2.datarobot.com/deployments/5fb2ccba6a2cd70255b0fa2c/overview\n"
          ],
          "name": "stdout"
        }
      ]
    },
    {
      "cell_type": "markdown",
      "metadata": {
        "id": "F_sIji-jleSr"
      },
      "source": [
        "# Adding Monitoring with MLOps Monitoring Agents"
      ]
    },
    {
      "cell_type": "markdown",
      "metadata": {
        "id": "SbbfRWU1Mrmp"
      },
      "source": [
        "## Monitoring With DRUM\n",
        "\n",
        "There are a few addition parameters we should set for the command line utility, or we may just create environment variables, and allow the drum utility to pick up the details from there.  \n",
        "\n",
        "```\n",
        "  --monitor             Monitor predictions using DataRobot MLOps. True or\n",
        "                        False. (env: MONITOR).Monitoring can not be used in\n",
        "                        unstructured mode.\n",
        "  --deployment-id DEPLOYMENT_ID\n",
        "                        Deployment id to use for monitoring model predictions\n",
        "                        (env: DEPLOYMENT_ID)\n",
        "  --model-id MODEL_ID   MLOps model id to use for monitoring predictions (env:\n",
        "                        MODEL_ID)\n",
        "  --monitor-settings MONITOR_SETTINGS\n",
        "                        MLOps setting to use for connecting with the MLOps\n",
        "                        Agent (env: MONITOR_SETTINGS)\n",
        "```\n",
        "For today, we'll set environment variables to add monitoring. \n"
      ]
    },
    {
      "cell_type": "code",
      "metadata": {
        "id": "Uu23gamNMrmq"
      },
      "source": [
        "os.environ[\"MONITOR\"] = \"True\"\n",
        "os.environ[\"DEPLOYMENT_ID\"] = deployment_id\n",
        "os.environ[\"MODEL_ID\"] = model_id\n",
        "os.environ[\"MONITOR_SETTINGS\"] = \"spooler_type=filesystem;directory=/tmp/ta;max_files=5;file_max_size=1045876000\""
      ],
      "execution_count": null,
      "outputs": []
    },
    {
      "cell_type": "code",
      "metadata": {
        "id": "Gs6kK8PKMrmr"
      },
      "source": [
        "run_inference_server = [\"drum\",\n",
        "              \"server\",\n",
        "              \"--code-dir\",\"friendly-mlops/models/xgboost-with-humility\", \n",
        "              \"--address\", \"0.0.0.0:43210\", \n",
        "              \"--show-perf\",\n",
        "              \"--target-type\", \"binary\",\n",
        "              \"--positive-class-label\", \"True\",\n",
        "              \"--negative-class-label\", \"False\",\n",
        "              \"--logging-level\", \"info\",\n",
        "              \"--show-stacktrace\",\n",
        "#               \"--verbose\"\n",
        "              ]"
      ],
      "execution_count": null,
      "outputs": []
    },
    {
      "cell_type": "code",
      "metadata": {
        "id": "TkbK6OKbMrmt"
      },
      "source": [
        "inference_server_with_monitoring = subprocess.Popen(run_inference_server, stdout=subprocess.PIPE)"
      ],
      "execution_count": null,
      "outputs": []
    },
    {
      "cell_type": "code",
      "metadata": {
        "id": "72S5ic_sMrmv"
      },
      "source": [
        "predictions = score(\n",
        "    pd.read_csv(\"/content/friendly-mlops/data/readmissions_test.csv\").head(100),\n",
        "    \"43210\")"
      ],
      "execution_count": null,
      "outputs": []
    },
    {
      "cell_type": "code",
      "metadata": {
        "id": "pQA_TvN3Mrmx",
        "colab": {
          "base_uri": "https://localhost:8080/",
          "height": 204
        },
        "outputId": "a9227d65-2a1e-4e81-9cd4-39fb731165c8"
      },
      "source": [
        "pd.DataFrame(predictions.json()).head()"
      ],
      "execution_count": null,
      "outputs": [
        {
          "output_type": "execute_result",
          "data": {
            "text/html": [
              "<div>\n",
              "<style scoped>\n",
              "    .dataframe tbody tr th:only-of-type {\n",
              "        vertical-align: middle;\n",
              "    }\n",
              "\n",
              "    .dataframe tbody tr th {\n",
              "        vertical-align: top;\n",
              "    }\n",
              "\n",
              "    .dataframe thead th {\n",
              "        text-align: right;\n",
              "    }\n",
              "</style>\n",
              "<table border=\"1\" class=\"dataframe\">\n",
              "  <thead>\n",
              "    <tr style=\"text-align: right;\">\n",
              "      <th></th>\n",
              "      <th>predictions</th>\n",
              "    </tr>\n",
              "  </thead>\n",
              "  <tbody>\n",
              "    <tr>\n",
              "      <th>0</th>\n",
              "      <td>26.345</td>\n",
              "    </tr>\n",
              "    <tr>\n",
              "      <th>1</th>\n",
              "      <td>22.180</td>\n",
              "    </tr>\n",
              "    <tr>\n",
              "      <th>2</th>\n",
              "      <td>34.640</td>\n",
              "    </tr>\n",
              "    <tr>\n",
              "      <th>3</th>\n",
              "      <td>33.845</td>\n",
              "    </tr>\n",
              "    <tr>\n",
              "      <th>4</th>\n",
              "      <td>35.320</td>\n",
              "    </tr>\n",
              "  </tbody>\n",
              "</table>\n",
              "</div>"
            ],
            "text/plain": [
              "   predictions\n",
              "0       26.345\n",
              "1       22.180\n",
              "2       34.640\n",
              "3       33.845\n",
              "4       35.320"
            ]
          },
          "metadata": {
            "tags": []
          },
          "execution_count": 56
        }
      ]
    },
    {
      "cell_type": "code",
      "metadata": {
        "id": "0LPPW7qsMrm0",
        "colab": {
          "base_uri": "https://localhost:8080/"
        },
        "outputId": "965afe17-6fb2-4723-9f46-d6dd7a08cd4e"
      },
      "source": [
        "requests.post(\"http://localhost:43210/shutdown/\").content"
      ],
      "execution_count": null,
      "outputs": [
        {
          "output_type": "execute_result",
          "data": {
            "text/plain": [
              "b'Server shutting down...'"
            ]
          },
          "metadata": {
            "tags": []
          },
          "execution_count": 57
        }
      ]
    },
    {
      "cell_type": "code",
      "metadata": {
        "id": "RDZ48oQFMrm3",
        "colab": {
          "base_uri": "https://localhost:8080/"
        },
        "outputId": "fa615c8c-406a-437a-d45a-0477817b7c2a"
      },
      "source": [
        "subprocess.call(\"../{}/bin/stop-agent.sh\".format(agents_dir))"
      ],
      "execution_count": null,
      "outputs": [
        {
          "output_type": "execute_result",
          "data": {
            "text/plain": [
              "0"
            ]
          },
          "metadata": {
            "tags": []
          },
          "execution_count": 58
        }
      ]
    },
    {
      "cell_type": "code",
      "metadata": {
        "id": "EAM_HvAiMrm5",
        "colab": {
          "base_uri": "https://localhost:8080/"
        },
        "outputId": "e84f6932-2180-4838-ceb9-2765d75bcbc5"
      },
      "source": [
        "## check that agent is stopped \n",
        "check = subprocess.Popen([\"../{}/bin/status-agent.sh\".format(agents_dir)], stdout=subprocess.PIPE)\n",
        "print(check.stdout.readlines())\n",
        "check.terminate()"
      ],
      "execution_count": null,
      "outputs": [
        {
          "output_type": "stream",
          "text": [
            "[b'DataRobot MLOps-Agent is not running as a service.\\n']\n"
          ],
          "name": "stdout"
        }
      ]
    },
    {
      "cell_type": "code",
      "metadata": {
        "id": "6o_bqcGCMrnA",
        "colab": {
          "base_uri": "https://localhost:8080/"
        },
        "outputId": "4354c2cd-b116-4df4-a498-e64e208cd1e0"
      },
      "source": [
        "deployment = dr.Deployment.get(deployment_id)\n",
        "deployment.get_service_stats()"
      ],
      "execution_count": null,
      "outputs": [
        {
          "output_type": "execute_result",
          "data": {
            "text/plain": [
              "ServiceStats(5fb2ccb82133930df77dea02 | 2020-11-09 20:00:00+00:00 - 2020-11-16 20:00:00+00:00)"
            ]
          },
          "metadata": {
            "tags": []
          },
          "execution_count": 60
        }
      ]
    },
    {
      "cell_type": "code",
      "metadata": {
        "id": "6m5-5VUIMrnC",
        "colab": {
          "base_uri": "https://localhost:8080/"
        },
        "outputId": "dc5f60d0-c598-4167-9833-4dcaada19478"
      },
      "source": [
        "service_stats = deployment.get_service_stats()\n",
        "service_stats.metrics"
      ],
      "execution_count": null,
      "outputs": [
        {
          "output_type": "execute_result",
          "data": {
            "text/plain": [
              "{'cacheHitRatio': 0,\n",
              " 'executionTime': 15.6660079956055,\n",
              " 'medianLoad': 0,\n",
              " 'numConsumers': 1,\n",
              " 'peakLoad': 1,\n",
              " 'responseTime': 0,\n",
              " 'serverErrorRate': 0,\n",
              " 'slowRequests': 0,\n",
              " 'totalPredictions': 100,\n",
              " 'totalRequests': 1,\n",
              " 'userErrorRate': 0}"
            ]
          },
          "metadata": {
            "tags": []
          },
          "execution_count": 61
        }
      ]
    },
    {
      "cell_type": "code",
      "metadata": {
        "id": "2Vff7CRdcbhb"
      },
      "source": [
        ""
      ],
      "execution_count": null,
      "outputs": []
    }
  ]
}